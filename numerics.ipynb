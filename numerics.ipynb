{
 "cells": [
  {
   "cell_type": "code",
   "execution_count": 1,
   "metadata": {},
   "outputs": [],
   "source": [
    "import matplotlib.pyplot as plt\n",
    "import numpy as np\n",
    "import tqdm.notebook as tqdm"
   ]
  },
  {
   "cell_type": "code",
   "execution_count": 2,
   "metadata": {},
   "outputs": [],
   "source": [
    "#import matplotlib as mpl\n",
    "#plt.rcParams.update({\n",
    "#    \"text.usetex\": True})"
   ]
  },
  {
   "cell_type": "code",
   "execution_count": 31,
   "metadata": {},
   "outputs": [],
   "source": [
    "def random_cov_matrix(d, alpha=1/3):\n",
    "    \"\"\"\n",
    "    Generate a random covariance matrix according to annexe G1\n",
    "    \"\"\"\n",
    "    k = int(np.round(d/alpha))\n",
    "    M = np.random.normal(size=(k,d))\n",
    "    A_tilde = M.T@M\n",
    "    A = A_tilde / np.trace(A_tilde)\n",
    "    return A\n",
    "\n",
    "def random_cov_matrix_k(d, alpha=1/3):\n",
    "    \"\"\"\n",
    "    Generate a random covariance matrix according to annexe G1\n",
    "    \"\"\"\n",
    "    k = int(np.round(d/alpha))\n",
    "    M = np.random.normal(size=(k,d))\n",
    "    A_tilde = M.T@M\n",
    "    A = A_tilde / k\n",
    "    return A\n",
    "\n",
    "def mat_sqrt(A):\n",
    "    u, s, vh = np.linalg.svd(A)\n",
    "    return (u * np.sqrt(s)) @ vh\n",
    "\n",
    "def random_uniform_sphere(d, size=1):\n",
    "    x = np.random.normal(size=(size,d))\n",
    "    return x / np.linalg.norm(x,axis=-1, keepdims=True)\n",
    "\n",
    "def random_R(d, alpha, beta, size=1):\n",
    "    z = np.random.normal(size=size)\n",
    "    return alpha*np.abs(np.arctan(z/beta))**(1/d)\n",
    "\n",
    "def estimate_alpha(beta, d, nb_steps=10000):\n",
    "    R = random_R(d, 1, beta, size=nb_steps)\n",
    "    return np.sqrt(d) / np.mean(R*R)\n",
    "\n",
    "def sample_X(d, alpha, beta, A, size=1):\n",
    "    A_sqrt = mat_sqrt(A)\n",
    "    R = random_R(d, alpha, beta, size=1)\n",
    "    U = random_uniform_sphere(d, size=size)\n",
    "    return (R * U) @ A_sqrt\n",
    "\n",
    "def log_sum_exp(x, coef):\n",
    "    max_value = np.max(x, axis=1)\n",
    "    return max_value + np.log(np.sum(np.exp(x-max_value[:,np.newaxis])*coef,axis=1))\n",
    "\n",
    "def sinkhorn_step(C, p, q, v, lbda):\n",
    "    u = -lbda * log_sum_exp((v-C)/lbda, q)\n",
    "    v = -lbda * log_sum_exp((u-C.T)/lbda, p)\n",
    "    return u,v\n",
    "\n",
    "def sinkhorn_algo(mu, nu, lbda, p=None, q=None, nb_steps=10000):\n",
    "    p = np.ones(len(mu))/len(mu) if p is None else p\n",
    "    q = np.ones(len(nu))/len(nu) if q is None else q\n",
    "    diff = mu[:,np.newaxis,:] - nu[np.newaxis, :,:]\n",
    "    C = 0.5*np.sum(diff*diff, axis=-1)\n",
    "    v = np.zeros(len(nu), dtype=np.float64)\n",
    "    for _ in range(nb_steps):\n",
    "        u,v = sinkhorn_step(C, p, q, v, lbda)\n",
    "    return u,v\n",
    "\n",
    "def compute_T(mu, nu, lbda, p=None, q=None):\n",
    "    p = np.ones(len(mu))/len(mu) if p is None else p\n",
    "    q = np.ones(len(nu))/len(nu) if q is None else q\n",
    "    u,v = sinkhorn_algo(mu, nu, lbda, p, q)\n",
    "    return u@p + v@q"
   ]
  },
  {
   "cell_type": "code",
   "execution_count": 32,
   "metadata": {},
   "outputs": [
    {
     "ename": "KeyboardInterrupt",
     "evalue": "",
     "output_type": "error",
     "traceback": [
      "\u001b[0;31m---------------------------------------------------------------------------\u001b[0m",
      "\u001b[0;31mKeyboardInterrupt\u001b[0m                         Traceback (most recent call last)",
      "\u001b[0;32m<ipython-input-32-deb0e30f3d48>\u001b[0m in \u001b[0;36m<module>\u001b[0;34m\u001b[0m\n\u001b[1;32m      7\u001b[0m \u001b[0mmu\u001b[0m \u001b[0;34m=\u001b[0m \u001b[0msample_X\u001b[0m\u001b[0;34m(\u001b[0m\u001b[0md\u001b[0m\u001b[0;34m,\u001b[0m \u001b[0malpha\u001b[0m\u001b[0;34m,\u001b[0m \u001b[0mbeta\u001b[0m\u001b[0;34m,\u001b[0m \u001b[0mA\u001b[0m\u001b[0;34m,\u001b[0m \u001b[0mn\u001b[0m\u001b[0;34m)\u001b[0m\u001b[0;34m\u001b[0m\u001b[0;34m\u001b[0m\u001b[0m\n\u001b[1;32m      8\u001b[0m \u001b[0mnu\u001b[0m \u001b[0;34m=\u001b[0m \u001b[0msample_X\u001b[0m\u001b[0;34m(\u001b[0m\u001b[0md\u001b[0m\u001b[0;34m,\u001b[0m \u001b[0malpha\u001b[0m\u001b[0;34m,\u001b[0m \u001b[0mbeta\u001b[0m\u001b[0;34m,\u001b[0m \u001b[0mA\u001b[0m\u001b[0;34m,\u001b[0m \u001b[0mn\u001b[0m\u001b[0;34m)\u001b[0m\u001b[0;34m\u001b[0m\u001b[0;34m\u001b[0m\u001b[0m\n\u001b[0;32m----> 9\u001b[0;31m \u001b[0mcompute_T\u001b[0m\u001b[0;34m(\u001b[0m\u001b[0mmu\u001b[0m\u001b[0;34m,\u001b[0m \u001b[0mnu\u001b[0m\u001b[0;34m,\u001b[0m \u001b[0mlbda\u001b[0m\u001b[0;34m)\u001b[0m\u001b[0;34m\u001b[0m\u001b[0;34m\u001b[0m\u001b[0m\n\u001b[0m",
      "\u001b[0;32m<ipython-input-31-0a87d86a8594>\u001b[0m in \u001b[0;36mcompute_T\u001b[0;34m(mu, nu, lbda, p, q)\u001b[0m\n\u001b[1;32m     63\u001b[0m     \u001b[0mp\u001b[0m \u001b[0;34m=\u001b[0m \u001b[0mnp\u001b[0m\u001b[0;34m.\u001b[0m\u001b[0mones\u001b[0m\u001b[0;34m(\u001b[0m\u001b[0mlen\u001b[0m\u001b[0;34m(\u001b[0m\u001b[0mmu\u001b[0m\u001b[0;34m)\u001b[0m\u001b[0;34m)\u001b[0m\u001b[0;34m/\u001b[0m\u001b[0mlen\u001b[0m\u001b[0;34m(\u001b[0m\u001b[0mmu\u001b[0m\u001b[0;34m)\u001b[0m \u001b[0;32mif\u001b[0m \u001b[0mp\u001b[0m \u001b[0;32mis\u001b[0m \u001b[0;32mNone\u001b[0m \u001b[0;32melse\u001b[0m \u001b[0mp\u001b[0m\u001b[0;34m\u001b[0m\u001b[0;34m\u001b[0m\u001b[0m\n\u001b[1;32m     64\u001b[0m     \u001b[0mq\u001b[0m \u001b[0;34m=\u001b[0m \u001b[0mnp\u001b[0m\u001b[0;34m.\u001b[0m\u001b[0mones\u001b[0m\u001b[0;34m(\u001b[0m\u001b[0mlen\u001b[0m\u001b[0;34m(\u001b[0m\u001b[0mnu\u001b[0m\u001b[0;34m)\u001b[0m\u001b[0;34m)\u001b[0m\u001b[0;34m/\u001b[0m\u001b[0mlen\u001b[0m\u001b[0;34m(\u001b[0m\u001b[0mnu\u001b[0m\u001b[0;34m)\u001b[0m \u001b[0;32mif\u001b[0m \u001b[0mq\u001b[0m \u001b[0;32mis\u001b[0m \u001b[0;32mNone\u001b[0m \u001b[0;32melse\u001b[0m \u001b[0mq\u001b[0m\u001b[0;34m\u001b[0m\u001b[0;34m\u001b[0m\u001b[0m\n\u001b[0;32m---> 65\u001b[0;31m     \u001b[0mu\u001b[0m\u001b[0;34m,\u001b[0m\u001b[0mv\u001b[0m \u001b[0;34m=\u001b[0m \u001b[0msinkhorn_algo\u001b[0m\u001b[0;34m(\u001b[0m\u001b[0mmu\u001b[0m\u001b[0;34m,\u001b[0m \u001b[0mnu\u001b[0m\u001b[0;34m,\u001b[0m \u001b[0mlbda\u001b[0m\u001b[0;34m,\u001b[0m \u001b[0mp\u001b[0m\u001b[0;34m,\u001b[0m \u001b[0mq\u001b[0m\u001b[0;34m)\u001b[0m\u001b[0;34m\u001b[0m\u001b[0;34m\u001b[0m\u001b[0m\n\u001b[0m\u001b[1;32m     66\u001b[0m     \u001b[0;32mreturn\u001b[0m \u001b[0mu\u001b[0m\u001b[0;34m@\u001b[0m\u001b[0mp\u001b[0m \u001b[0;34m+\u001b[0m \u001b[0mv\u001b[0m\u001b[0;34m@\u001b[0m\u001b[0mq\u001b[0m\u001b[0;34m\u001b[0m\u001b[0;34m\u001b[0m\u001b[0m\n",
      "\u001b[0;32m<ipython-input-31-0a87d86a8594>\u001b[0m in \u001b[0;36msinkhorn_algo\u001b[0;34m(mu, nu, lbda, p, q, nb_steps)\u001b[0m\n\u001b[1;32m     57\u001b[0m     \u001b[0mv\u001b[0m \u001b[0;34m=\u001b[0m \u001b[0mnp\u001b[0m\u001b[0;34m.\u001b[0m\u001b[0mzeros\u001b[0m\u001b[0;34m(\u001b[0m\u001b[0mlen\u001b[0m\u001b[0;34m(\u001b[0m\u001b[0mnu\u001b[0m\u001b[0;34m)\u001b[0m\u001b[0;34m,\u001b[0m \u001b[0mdtype\u001b[0m\u001b[0;34m=\u001b[0m\u001b[0mnp\u001b[0m\u001b[0;34m.\u001b[0m\u001b[0mfloat64\u001b[0m\u001b[0;34m)\u001b[0m\u001b[0;34m\u001b[0m\u001b[0;34m\u001b[0m\u001b[0m\n\u001b[1;32m     58\u001b[0m     \u001b[0;32mfor\u001b[0m \u001b[0m_\u001b[0m \u001b[0;32min\u001b[0m \u001b[0mrange\u001b[0m\u001b[0;34m(\u001b[0m\u001b[0mnb_steps\u001b[0m\u001b[0;34m)\u001b[0m\u001b[0;34m:\u001b[0m\u001b[0;34m\u001b[0m\u001b[0;34m\u001b[0m\u001b[0m\n\u001b[0;32m---> 59\u001b[0;31m         \u001b[0mu\u001b[0m\u001b[0;34m,\u001b[0m\u001b[0mv\u001b[0m \u001b[0;34m=\u001b[0m \u001b[0msinkhorn_step\u001b[0m\u001b[0;34m(\u001b[0m\u001b[0mC\u001b[0m\u001b[0;34m,\u001b[0m \u001b[0mp\u001b[0m\u001b[0;34m,\u001b[0m \u001b[0mq\u001b[0m\u001b[0;34m,\u001b[0m \u001b[0mv\u001b[0m\u001b[0;34m,\u001b[0m \u001b[0mlbda\u001b[0m\u001b[0;34m)\u001b[0m\u001b[0;34m\u001b[0m\u001b[0;34m\u001b[0m\u001b[0m\n\u001b[0m\u001b[1;32m     60\u001b[0m     \u001b[0;32mreturn\u001b[0m \u001b[0mu\u001b[0m\u001b[0;34m,\u001b[0m\u001b[0mv\u001b[0m\u001b[0;34m\u001b[0m\u001b[0;34m\u001b[0m\u001b[0m\n\u001b[1;32m     61\u001b[0m \u001b[0;34m\u001b[0m\u001b[0m\n",
      "\u001b[0;32m<ipython-input-31-0a87d86a8594>\u001b[0m in \u001b[0;36msinkhorn_step\u001b[0;34m(C, p, q, v, lbda)\u001b[0m\n\u001b[1;32m     47\u001b[0m \u001b[0;32mdef\u001b[0m \u001b[0msinkhorn_step\u001b[0m\u001b[0;34m(\u001b[0m\u001b[0mC\u001b[0m\u001b[0;34m,\u001b[0m \u001b[0mp\u001b[0m\u001b[0;34m,\u001b[0m \u001b[0mq\u001b[0m\u001b[0;34m,\u001b[0m \u001b[0mv\u001b[0m\u001b[0;34m,\u001b[0m \u001b[0mlbda\u001b[0m\u001b[0;34m)\u001b[0m\u001b[0;34m:\u001b[0m\u001b[0;34m\u001b[0m\u001b[0;34m\u001b[0m\u001b[0m\n\u001b[1;32m     48\u001b[0m     \u001b[0mu\u001b[0m \u001b[0;34m=\u001b[0m \u001b[0;34m-\u001b[0m\u001b[0mlbda\u001b[0m \u001b[0;34m*\u001b[0m \u001b[0mlog_sum_exp\u001b[0m\u001b[0;34m(\u001b[0m\u001b[0;34m(\u001b[0m\u001b[0mv\u001b[0m\u001b[0;34m-\u001b[0m\u001b[0mC\u001b[0m\u001b[0;34m)\u001b[0m\u001b[0;34m/\u001b[0m\u001b[0mlbda\u001b[0m\u001b[0;34m,\u001b[0m \u001b[0mq\u001b[0m\u001b[0;34m)\u001b[0m\u001b[0;34m\u001b[0m\u001b[0;34m\u001b[0m\u001b[0m\n\u001b[0;32m---> 49\u001b[0;31m     \u001b[0mv\u001b[0m \u001b[0;34m=\u001b[0m \u001b[0;34m-\u001b[0m\u001b[0mlbda\u001b[0m \u001b[0;34m*\u001b[0m \u001b[0mlog_sum_exp\u001b[0m\u001b[0;34m(\u001b[0m\u001b[0;34m(\u001b[0m\u001b[0mu\u001b[0m\u001b[0;34m-\u001b[0m\u001b[0mC\u001b[0m\u001b[0;34m.\u001b[0m\u001b[0mT\u001b[0m\u001b[0;34m)\u001b[0m\u001b[0;34m/\u001b[0m\u001b[0mlbda\u001b[0m\u001b[0;34m,\u001b[0m \u001b[0mp\u001b[0m\u001b[0;34m)\u001b[0m\u001b[0;34m\u001b[0m\u001b[0;34m\u001b[0m\u001b[0m\n\u001b[0m\u001b[1;32m     50\u001b[0m     \u001b[0;32mreturn\u001b[0m \u001b[0mu\u001b[0m\u001b[0;34m,\u001b[0m\u001b[0mv\u001b[0m\u001b[0;34m\u001b[0m\u001b[0;34m\u001b[0m\u001b[0m\n\u001b[1;32m     51\u001b[0m \u001b[0;34m\u001b[0m\u001b[0m\n",
      "\u001b[0;32m<ipython-input-31-0a87d86a8594>\u001b[0m in \u001b[0;36mlog_sum_exp\u001b[0;34m(x, coef)\u001b[0m\n\u001b[1;32m     43\u001b[0m \u001b[0;32mdef\u001b[0m \u001b[0mlog_sum_exp\u001b[0m\u001b[0;34m(\u001b[0m\u001b[0mx\u001b[0m\u001b[0;34m,\u001b[0m \u001b[0mcoef\u001b[0m\u001b[0;34m)\u001b[0m\u001b[0;34m:\u001b[0m\u001b[0;34m\u001b[0m\u001b[0;34m\u001b[0m\u001b[0m\n\u001b[1;32m     44\u001b[0m     \u001b[0mmax_value\u001b[0m \u001b[0;34m=\u001b[0m \u001b[0mnp\u001b[0m\u001b[0;34m.\u001b[0m\u001b[0mmax\u001b[0m\u001b[0;34m(\u001b[0m\u001b[0mx\u001b[0m\u001b[0;34m,\u001b[0m \u001b[0maxis\u001b[0m\u001b[0;34m=\u001b[0m\u001b[0;36m1\u001b[0m\u001b[0;34m)\u001b[0m\u001b[0;34m\u001b[0m\u001b[0;34m\u001b[0m\u001b[0m\n\u001b[0;32m---> 45\u001b[0;31m     \u001b[0;32mreturn\u001b[0m \u001b[0mmax_value\u001b[0m \u001b[0;34m+\u001b[0m \u001b[0mnp\u001b[0m\u001b[0;34m.\u001b[0m\u001b[0mlog\u001b[0m\u001b[0;34m(\u001b[0m\u001b[0mnp\u001b[0m\u001b[0;34m.\u001b[0m\u001b[0msum\u001b[0m\u001b[0;34m(\u001b[0m\u001b[0mnp\u001b[0m\u001b[0;34m.\u001b[0m\u001b[0mexp\u001b[0m\u001b[0;34m(\u001b[0m\u001b[0mx\u001b[0m\u001b[0;34m-\u001b[0m\u001b[0mmax_value\u001b[0m\u001b[0;34m[\u001b[0m\u001b[0;34m:\u001b[0m\u001b[0;34m,\u001b[0m\u001b[0mnp\u001b[0m\u001b[0;34m.\u001b[0m\u001b[0mnewaxis\u001b[0m\u001b[0;34m]\u001b[0m\u001b[0;34m)\u001b[0m\u001b[0;34m*\u001b[0m\u001b[0mcoef\u001b[0m\u001b[0;34m,\u001b[0m\u001b[0maxis\u001b[0m\u001b[0;34m=\u001b[0m\u001b[0;36m1\u001b[0m\u001b[0;34m)\u001b[0m\u001b[0;34m)\u001b[0m\u001b[0;34m\u001b[0m\u001b[0;34m\u001b[0m\u001b[0m\n\u001b[0m\u001b[1;32m     46\u001b[0m \u001b[0;34m\u001b[0m\u001b[0m\n\u001b[1;32m     47\u001b[0m \u001b[0;32mdef\u001b[0m \u001b[0msinkhorn_step\u001b[0m\u001b[0;34m(\u001b[0m\u001b[0mC\u001b[0m\u001b[0;34m,\u001b[0m \u001b[0mp\u001b[0m\u001b[0;34m,\u001b[0m \u001b[0mq\u001b[0m\u001b[0;34m,\u001b[0m \u001b[0mv\u001b[0m\u001b[0;34m,\u001b[0m \u001b[0mlbda\u001b[0m\u001b[0;34m)\u001b[0m\u001b[0;34m:\u001b[0m\u001b[0;34m\u001b[0m\u001b[0;34m\u001b[0m\u001b[0m\n",
      "\u001b[0;31mKeyboardInterrupt\u001b[0m: "
     ]
    }
   ],
   "source": [
    "n = 1000\n",
    "d = 5\n",
    "A = random_cov_matrix(d)\n",
    "beta = 1\n",
    "lbda = 0.000001\n",
    "alpha = estimate_alpha(beta, d)\n",
    "mu = sample_X(d, alpha, beta, A, n)\n",
    "nu = sample_X(d, alpha, beta, A, n)\n",
    "compute_T(mu, nu, lbda)"
   ]
  },
  {
   "cell_type": "code",
   "execution_count": null,
   "metadata": {},
   "outputs": [
    {
     "name": "stderr",
     "output_type": "stream",
     "text": [
      "/Users/leoheidelberger/miniconda3/lib/python3.7/site-packages/numpy/core/function_base.py:275: RuntimeWarning: overflow encountered in power\n",
      "  return _nx.power(base, y).astype(dtype, copy=False)\n"
     ]
    },
    {
     "data": {
      "application/vnd.jupyter.widget-view+json": {
       "model_id": "ba5a85f7ac2a4e0b8b9e4791eda18551",
       "version_major": 2,
       "version_minor": 0
      },
      "text/plain": [
       "HBox(children=(IntProgress(value=0, max=10), HTML(value='')))"
      ]
     },
     "metadata": {},
     "output_type": "display_data"
    }
   ],
   "source": [
    "dist = []\n",
    "n_values = np.logspace(10, 500, 10, dtype=np.int)\n",
    "for n in tqdm.tqdm(n_values):\n",
    "    d = 5\n",
    "    A = random_cov_matrix(d)\n",
    "    beta = 1\n",
    "    lbda = 0.1\n",
    "    alpha = estimate_alpha(beta, d)\n",
    "    mu = sample_X(d, alpha, beta, A, n)\n",
    "    nu = sample_X(d, alpha, beta, A, n)\n",
    "    dist.append(compute_T(mu, nu))\n",
    "    \n",
    "plt.plot(dist)\n",
    "plt.yscale(\"log\")\n",
    "plt.xscale(\"log\")"
   ]
  },
  {
   "cell_type": "code",
   "execution_count": 4,
   "metadata": {},
   "outputs": [
    {
     "name": "stderr",
     "output_type": "stream",
     "text": [
      "test_sinkhorn (__main__.TestAlgos) ... ok\n",
      "test_estimate_alpha (__main__.TestRandom) ... ok\n",
      "test_mat_sqrt (__main__.TestRandom) ... ok\n",
      "test_random_cov_matrix (__main__.TestRandom) ... ok\n",
      "test_random_uniform_sphere (__main__.TestRandom) ... ok\n",
      "test_sample (__main__.TestRandom) ... ok\n",
      "\n",
      "----------------------------------------------------------------------\n",
      "Ran 6 tests in 0.058s\n",
      "\n",
      "OK\n"
     ]
    },
    {
     "data": {
      "text/plain": [
       "<unittest.main.TestProgram at 0x7fa9d8428d90>"
      ]
     },
     "execution_count": 4,
     "metadata": {},
     "output_type": "execute_result"
    }
   ],
   "source": [
    "import unittest\n",
    "\n",
    "class TestRandom(unittest.TestCase):\n",
    "    def test_random_cov_matrix(self):\n",
    "        d = 13 \n",
    "        A = random_cov_matrix(d)\n",
    "        self.assertEqual(A.shape, (d,d))\n",
    "    \n",
    "    def test_random_uniform_sphere(self):\n",
    "        x = random_uniform_sphere(13)\n",
    "        assert np.allclose(np.sum(x*x), 1)\n",
    "        \n",
    "    def test_estimate_alpha(self):\n",
    "        estimate_alpha(1, 13, nb_steps=1000)\n",
    "    \n",
    "    def test_sample(self):\n",
    "        d = 13\n",
    "        A = random_cov_matrix(d)\n",
    "        size = 17\n",
    "        beta = 1\n",
    "        alpha = estimate_alpha(beta, d)\n",
    "        x = sample_X(d, alpha, beta, A, size)\n",
    "        self.assertEqual(x.shape, (size, d))\n",
    "    def test_mat_sqrt(self):\n",
    "        d = 13\n",
    "        A = random_cov_matrix(d)\n",
    "        S = mat_sqrt(A)\n",
    "        self.assertTrue(np.allclose(S@S, A))\n",
    "\n",
    "class TestAlgos(unittest.TestCase):\n",
    "    def test_sinkhorn(self):\n",
    "        d = 5\n",
    "        A = random_cov_matrix(d)\n",
    "        n = 100\n",
    "        beta = 1\n",
    "        lbda = 0.1\n",
    "        alpha = estimate_alpha(beta, d)\n",
    "        mu = sample_X(d, alpha, beta, A, n)\n",
    "        nu = sample_X(d, alpha, beta, A, n-1)\n",
    "        u,v = sinkhorn_algo(mu, nu, lbda, nb_steps=100)\n",
    "        p = np.ones(len(mu))/len(mu)\n",
    "        q = np.ones(len(nu))/len(nu)\n",
    "        diff = mu[:,np.newaxis,:] - nu[np.newaxis, :,:]\n",
    "        C = 0.5*np.sum(diff*diff, axis=-1)\n",
    "        P = p[:,None] * np.exp((u[:,None]+v[None,:]-C)/lbda) * q[None,:]\n",
    "        self.assertLess(np.linalg.norm((np.sum(P,1)-p), 1), 1e-3)\n",
    "\n",
    "        \n",
    "unittest.main(argv=[''], verbosity=2, exit=False)"
   ]
  },
  {
   "cell_type": "code",
   "execution_count": 7,
   "metadata": {},
   "outputs": [
    {
     "data": {
      "application/vnd.jupyter.widget-view+json": {
       "model_id": "1c012be6efc44a789e63a3f49cfd08b5",
       "version_major": 2,
       "version_minor": 0
      },
      "text/plain": [
       "HBox(children=(IntProgress(value=0, max=50), HTML(value='')))"
      ]
     },
     "metadata": {},
     "output_type": "display_data"
    },
    {
     "name": "stdout",
     "output_type": "stream",
     "text": [
      "\n"
     ]
    },
    {
     "data": {
      "image/png": "[encoded data removed]",
      "text/plain": [
       "<Figure size 432x288 with 1 Axes>"
      ]
     },
     "metadata": {
      "needs_background": "light"
     },
     "output_type": "display_data"
    }
   ],
   "source": [
    "def plot_random_cov_matrix_eigenvalues(min_d=3, max_d=100, nb_points=50, exp_per_points=1000):    \n",
    "    dimensions = np.linspace(min_d, max_d, nb_points, dtype=np.int)\n",
    "    mean = []\n",
    "    std = []\n",
    "    for d in tqdm.tqdm(dimensions):\n",
    "        res = []\n",
    "        for _ in range(exp_per_points):\n",
    "            A = random_cov_matrix(d)\n",
    "            #Min eigenvalue / Max eigenvalue\n",
    "            ratio = np.linalg.cond(A, p=-2)\n",
    "            res.append(ratio)\n",
    "        mean.append(np.mean(res))\n",
    "        std.append(np.std(res))\n",
    "    mean = np.array(mean)\n",
    "    std = np.array(std)\n",
    "    plt.plot(dimensions, mean, label=\"Mean of ofbserved anisotropy\")\n",
    "    plt.axhline(y=0.07, color=\"black\", linestyle=\"--\", label=\"Asymptote at $y = 0.07$\")\n",
    "    plt.fill_between(dimensions, mean-std, mean+std, alpha=0.5, label=\"Stendard deviation\")\n",
    "    plt.ylabel(f\"Empirical anisotropy over {exp_per_points} experiments\")\n",
    "    plt.xlabel(\"Dimension $d$\")\n",
    "    plt.legend()\n",
    "    plt.savefig(\"images/anisotropy.svg\")\n",
    "    plt.savefig(\"images/anisotropy.png\")\n",
    "            \n",
    "plot_random_cov_matrix_eigenvalues()"
   ]
  },
  {
   "cell_type": "code",
   "execution_count": 8,
   "metadata": {},
   "outputs": [
    {
     "data": {
      "application/vnd.jupyter.widget-view+json": {
       "model_id": "525d95cecc724a6993fd79b13b83e3f9",
       "version_major": 2,
       "version_minor": 0
      },
      "text/plain": [
       "HBox(children=(IntProgress(value=0, max=50), HTML(value='')))"
      ]
     },
     "metadata": {},
     "output_type": "display_data"
    },
    {
     "name": "stdout",
     "output_type": "stream",
     "text": [
      "\n"
     ]
    },
    {
     "data": {
      "image/png": "[encoded data removed]",
      "text/plain": [
       "<Figure size 432x288 with 1 Axes>"
      ]
     },
     "metadata": {
      "needs_background": "light"
     },
     "output_type": "display_data"
    }
   ],
   "source": [
    "def plot_random_cov_matrix_eigenvalues(min_d=3, max_d=100, nb_points=50, exp_per_points=1000, alpha = 1/3):    \n",
    "    dimensions = np.linspace(min_d, max_d, nb_points, dtype=np.int)\n",
    "    mean = []\n",
    "    std = []\n",
    "    int_min = (1 - np.sqrt(alpha))**2\n",
    "    int_max = (1 + np.sqrt(alpha))**2\n",
    "    for d in tqdm.tqdm(dimensions):\n",
    "        res = []\n",
    "        for _ in range(exp_per_points):\n",
    "            k = int(np.round(d/alpha))\n",
    "            M = np.random.normal(size=(k,d))\n",
    "            A = M.T@M\n",
    "            A = A / k\n",
    "            eigs = np.linalg.eigvals(A)\n",
    "            count = np.sum((int_min < eigs) & (eigs < int_max))\n",
    "            res.append(count/d)\n",
    "        mean.append(np.mean(res))\n",
    "        #mean.append(np.mean(eigs))\n",
    "        std.append(np.std(res))\n",
    "    mean = np.array(mean)\n",
    "    std = np.array(std)\n",
    "    plt.plot(dimensions, mean)\n",
    "    plt.ylabel(\"\\% of eigenvalues in $\\\\left [ (1 - \\\\sqrt{\\\\alpha})^2,  (1 + \\\\sqrt{\\\\alpha})^2  \\\\right]$\")\n",
    "    plt.xlabel(\"Dimension $d$\")\n",
    "    plt.savefig(\"images/within_int.svg\")\n",
    "    plt.savefig(\"images/within_int.png\")\n",
    "            \n",
    "plot_random_cov_matrix_eigenvalues()"
   ]
  },
  {
   "cell_type": "code",
   "execution_count": null,
   "metadata": {},
   "outputs": [],
   "source": []
  },
  {
   "cell_type": "code",
   "execution_count": null,
   "metadata": {},
   "outputs": [],
   "source": []
  }
 ],
 "metadata": {
  "kernelspec": {
   "display_name": "Python 3",
   "language": "python",
   "name": "python3"
  },
  "language_info": {
   "codemirror_mode": {
    "name": "ipython",
    "version": 3
   },
   "file_extension": ".py",
   "mimetype": "text/x-python",
   "name": "python",
   "nbconvert_exporter": "python",
   "pygments_lexer": "ipython3",
   "version": "3.7.4"
  }
 },
 "nbformat": 4,
 "nbformat_minor": 4
}

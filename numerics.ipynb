{
 "cells": [
  {
   "cell_type": "code",
   "execution_count": 1,
   "metadata": {},
   "outputs": [],
   "source": [
    "import matplotlib.pyplot as plt\n",
    "import numpy as np\n",
    "import tqdm.notebook as tqdm"
   ]
  },
  {
   "cell_type": "code",
   "execution_count": 2,
   "metadata": {},
   "outputs": [],
   "source": [
    "import matplotlib as mpl\n",
    "plt.rcParams.update({\n",
    "    \"text.usetex\": True})"
   ]
  },
  {
   "cell_type": "code",
   "execution_count": 28,
   "metadata": {},
   "outputs": [
    {
     "name": "stderr",
     "output_type": "stream",
     "text": [
      "test_random_cov_matrix (__main__.TestRandom) ... ok\n",
      "\n",
      "----------------------------------------------------------------------\n",
      "Ran 1 test in 0.001s\n",
      "\n",
      "OK\n"
     ]
    },
    {
     "data": {
      "text/plain": [
       "<unittest.main.TestProgram at 0x7fbb25564dd0>"
      ]
     },
     "execution_count": 28,
     "metadata": {},
     "output_type": "execute_result"
    }
   ],
   "source": [
    "def random_cov_matrix(d, alpha=1/3):\n",
    "    \"\"\"\n",
    "    Generate a random covariance matrix according to annexe G1\n",
    "    \"\"\"\n",
    "    k = int(np.round(d/alpha))\n",
    "    M = np.random.normal(size=(k,d))\n",
    "    A_tilde = M.T@M\n",
    "    A = A_tilde / np.trace(A_tilde)\n",
    "    return A\n",
    "\n",
    "def random_cov_matrix_k(d, alpha=1/3):\n",
    "    \"\"\"\n",
    "    Generate a random covariance matrix according to annexe G1\n",
    "    \"\"\"\n",
    "    k = int(np.round(d/alpha))\n",
    "    M = np.random.normal(size=(k,d))\n",
    "    A_tilde = M.T@M\n",
    "    A = A_tilde / k\n",
    "    return A\n",
    "\n",
    "\n",
    "import unittest\n",
    "\n",
    "class TestRandom(unittest.TestCase):\n",
    "    def test_random_cov_matrix(self):\n",
    "        d = 13 \n",
    "        A = random_cov_matrix(d)\n",
    "        self.assertEqual(A.shape, (d,d))\n",
    "\n",
    "unittest.main(argv=[''], verbosity=2, exit=False)"
   ]
  },
  {
   "cell_type": "code",
   "execution_count": 32,
   "metadata": {},
   "outputs": [
    {
     "data": {
      "application/vnd.jupyter.widget-view+json": {
       "model_id": "5023c7292dc145dabcb6bc3642f9cb81",
       "version_major": 2,
       "version_minor": 0
      },
      "text/plain": [
       "HBox(children=(IntProgress(value=0, max=50), HTML(value='')))"
      ]
     },
     "metadata": {},
     "output_type": "display_data"
    },
    {
     "name": "stdout",
     "output_type": "stream",
     "text": [
      "\n"
     ]
    },
    {
     "data": {
      "image/png": "[encoded data removed]",
      "text/plain": [
       "<Figure size 432x288 with 1 Axes>"
      ]
     },
     "metadata": {
      "needs_background": "light"
     },
     "output_type": "display_data"
    }
   ],
   "source": [
    "def plot_random_cov_matrix_eigenvalues(min_d=3, max_d=100, nb_points=50, exp_per_points=100):    \n",
    "    dimensions = np.linspace(min_d, max_d, nb_points, dtype=np.int)\n",
    "    mean = []\n",
    "    std = []\n",
    "    for d in tqdm.tqdm(dimensions):\n",
    "        res = []\n",
    "        for _ in range(exp_per_points):\n",
    "            A = random_cov_matrix(d)\n",
    "            #Min eigenvalue / Max eigenvalue\n",
    "            ratio = np.linalg.cond(A, p=-2)\n",
    "            res.append(ratio)\n",
    "        mean.append(np.mean(res))\n",
    "        std.append(np.std(res))\n",
    "    mean = np.array(mean)\n",
    "    std = np.array(std)\n",
    "    plt.plot(dimensions, mean, label=\"Mean of ofbserved anisotropy\")\n",
    "    plt.axhline(y=0.07, color=\"black\", linestyle=\"--\", label=\"Asymptote at $y = 0.07$\")\n",
    "    plt.fill_between(dimensions, mean-std, mean+std, alpha=0.5, label=\"Stendard deviation\")\n",
    "    plt.ylabel(f\"Empirical anisotropy over {exp_per_points} experiments\")\n",
    "    plt.xlabel(\"Dimension $d$\")\n",
    "    plt.legend()\n",
    "    plt.savefig(\"images/anisotropy.svg\")\n",
    "    plt.savefig(\"images/anisotropy.png\")\n",
    "            \n",
    "plot_random_cov_matrix_eigenvalues()"
   ]
  },
  {
   "cell_type": "code",
   "execution_count": 41,
   "metadata": {},
   "outputs": [
    {
     "data": {
      "application/vnd.jupyter.widget-view+json": {
       "model_id": "600d3392d5fc48faabb66f20aafa1f78",
       "version_major": 2,
       "version_minor": 0
      },
      "text/plain": [
       "HBox(children=(IntProgress(value=0, max=50), HTML(value='')))"
      ]
     },
     "metadata": {},
     "output_type": "display_data"
    },
    {
     "name": "stdout",
     "output_type": "stream",
     "text": [
      "\n"
     ]
    },
    {
     "data": {
      "image/png": "[encoded data removed]",
      "text/plain": [
       "<Figure size 432x288 with 1 Axes>"
      ]
     },
     "metadata": {
      "needs_background": "light"
     },
     "output_type": "display_data"
    }
   ],
   "source": [
    "def plot_random_cov_matrix_eigenvalues(min_d=3, max_d=100, nb_points=50, exp_per_points=100, alpha = 1/3):    \n",
    "    dimensions = np.linspace(min_d, max_d, nb_points, dtype=np.int)\n",
    "    mean = []\n",
    "    std = []\n",
    "    int_min = (1 - np.sqrt(alpha))**2\n",
    "    int_max = (1 + np.sqrt(alpha))**2\n",
    "    for d in tqdm.tqdm(dimensions):\n",
    "        res = []\n",
    "        for _ in range(exp_per_points):\n",
    "            k = int(np.round(d/alpha))\n",
    "            M = np.random.normal(size=(k,d))\n",
    "            A = M.T@M\n",
    "            A = A / k\n",
    "            eigs = np.linalg.eigvals(A)\n",
    "            count = np.sum((int_min < eigs) & (eigs < int_max))\n",
    "            res.append(count/d)\n",
    "        mean.append(np.mean(res))\n",
    "        #mean.append(np.mean(eigs))\n",
    "        std.append(np.std(res))\n",
    "    mean = np.array(mean)\n",
    "    std = np.array(std)\n",
    "    plt.plot(dimensions, mean)\n",
    "    plt.ylabel(\"\\% of eigenvalues in $\\\\left [ (1 - \\\\sqrt{\\\\alpha})^2,  (1 + \\\\sqrt{\\\\alpha})^2  \\\\right]$\")\n",
    "    plt.xlabel(\"Dimension $d$\")\n",
    "    plt.savefig(\"images/within_int.svg\")\n",
    "    plt.savefig(\"images/within_int.png\")\n",
    "            \n",
    "plot_random_cov_matrix_eigenvalues()"
   ]
  },
  {
   "cell_type": "code",
   "execution_count": null,
   "metadata": {},
   "outputs": [],
   "source": []
  },
  {
   "cell_type": "code",
   "execution_count": null,
   "metadata": {},
   "outputs": [],
   "source": []
  }
 ],
 "metadata": {
  "kernelspec": {
   "display_name": "Python 3",
   "language": "python",
   "name": "python3"
  },
  "language_info": {
   "codemirror_mode": {
    "name": "ipython",
    "version": 3
   },
   "file_extension": ".py",
   "mimetype": "text/x-python",
   "name": "python",
   "nbconvert_exporter": "python",
   "pygments_lexer": "ipython3",
   "version": "3.7.4"
  }
 },
 "nbformat": 4,
 "nbformat_minor": 4
}
